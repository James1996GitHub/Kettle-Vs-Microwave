{
  "nbformat": 4,
  "nbformat_minor": 0,
  "metadata": {
    "colab": {
      "name": "Object Classification.ipynb",
      "provenance": [],
      "collapsed_sections": [],
      "include_colab_link": true
    },
    "kernelspec": {
      "name": "python3",
      "display_name": "Python 3"
    },
    "language_info": {
      "name": "python"
    }
  },
  "cells": [
    {
      "cell_type": "markdown",
      "metadata": {
        "id": "view-in-github",
        "colab_type": "text"
      },
      "source": [
        "<a href=\"https://colab.research.google.com/github/James1996GitHub/Kettle-Vs-Microwave/blob/main/CNN%20Training.ipynb\" target=\"_parent\"><img src=\"https://colab.research.google.com/assets/colab-badge.svg\" alt=\"Open In Colab\"/></a>"
      ]
    },
    {
      "cell_type": "markdown",
      "metadata": {
        "id": "WdCZ8hpKhcNh"
      },
      "source": [
        "Mounts our Googled drive envirement to the session so we can import data in stroed in our Google drive."
      ]
    },
    {
      "cell_type": "code",
      "metadata": {
        "colab": {
          "base_uri": "https://localhost:8080/"
        },
        "id": "4bRnWoP3IL0g",
        "outputId": "647f6263-4b45-4eca-ac88-61191d809c7a"
      },
      "source": [
        "from google.colab import drive\n",
        "drive.mount('/content/drive')"
      ],
      "execution_count": null,
      "outputs": [
        {
          "output_type": "stream",
          "name": "stdout",
          "text": [
            "Mounted at /content/drive\n"
          ]
        }
      ]
    },
    {
      "cell_type": "markdown",
      "metadata": {
        "id": "RJD2qedUhts9"
      },
      "source": [
        "Imports all the libaries we will need to run this script."
      ]
    },
    {
      "cell_type": "code",
      "metadata": {
        "id": "_HfEMOzj3oMr"
      },
      "source": [
        "import os \n",
        "import pandas as pd\n",
        "import csv\n",
        "import numpy as np\n",
        "import PIL.Image\n",
        "\n",
        "import tensorflow as tf\n",
        "from tensorflow.keras import layers\n",
        "from tensorflow.keras.models import Sequential\n",
        "from tensorflow.keras.preprocessing.image import ImageDataGenerator\n",
        "from keras.applications.inception_v3 import preprocess_input\n",
        "\n",
        "import sklearn\n",
        "from sklearn.metrics import confusion_matrix\n",
        "import itertools\n",
        "import matplotlib.pyplot as plt\n"
      ],
      "execution_count": null,
      "outputs": []
    },
    {
      "cell_type": "code",
      "metadata": {
        "id": "CkRpFhMAobFN"
      },
      "source": [
        "print('Is using GPU?', tf.test.is_gpu_available())"
      ],
      "execution_count": null,
      "outputs": []
    },
    {
      "cell_type": "markdown",
      "metadata": {
        "id": "XD0FAWWTh8F7"
      },
      "source": [
        "Saving the locations of our image data from google drive so they can be called more conviently later on. "
      ]
    },
    {
      "cell_type": "code",
      "metadata": {
        "colab": {
          "base_uri": "https://localhost:8080/"
        },
        "id": "u0NvqirT3zeg",
        "outputId": "7d59e60c-e0cb-40a1-cd22-28bc2d18092c"
      },
      "source": [
        "trainPath = '/content/drive/MyDrive/Data/TrainingData'\n",
        "testPath = '/content/drive/MyDrive/Data/TestingData/Data'\n",
        "kettlesPath = '/content/drive/MyDrive/Data/TrainingData/Kettle'\n",
        "microwavePath = '/content/drive/MyDrive/Data/TrainingData/Microwave'\n",
        "numKettles = len(os.listdir(kettlesPath))\n",
        "numMicrowaves = len(os.listdir(microwavePath))\n",
        "numTestImages = len(os.listdir(testPath))\n",
        "print('Number of kettles:', numKettles)\n",
        "print('Number of microwaves:', numMicrowaves)\n",
        "print('Number of test images:', numTestImages)"
      ],
      "execution_count": null,
      "outputs": [
        {
          "output_type": "stream",
          "name": "stdout",
          "text": [
            "Number of kettles: 201\n",
            "Number of microwaves: 109\n",
            "Number of test images: 30\n"
          ]
        }
      ]
    },
    {
      "cell_type": "markdown",
      "metadata": {
        "id": "2_SD_nG6iY7D"
      },
      "source": [
        "Saving the locations of our CSV data from Google drive so they can be called more conviently later on. "
      ]
    },
    {
      "cell_type": "code",
      "metadata": {
        "colab": {
          "base_uri": "https://localhost:8080/",
          "height": 979
        },
        "id": "DT3kH1KX6wsx",
        "outputId": "6afd68bf-e1fc-4e7a-ba0d-52d654bb4635"
      },
      "source": [
        "testCSVPath = '/content/drive/MyDrive/Data/TestingData/Test - Sheet1.csv'\n",
        "testDataShape = pd.read_csv(testCSVPath,names= ['Image File'],skiprows=1)\n",
        "testDataShape"
      ],
      "execution_count": null,
      "outputs": [
        {
          "output_type": "execute_result",
          "data": {
            "text/html": [
              "<div>\n",
              "<style scoped>\n",
              "    .dataframe tbody tr th:only-of-type {\n",
              "        vertical-align: middle;\n",
              "    }\n",
              "\n",
              "    .dataframe tbody tr th {\n",
              "        vertical-align: top;\n",
              "    }\n",
              "\n",
              "    .dataframe thead th {\n",
              "        text-align: right;\n",
              "    }\n",
              "</style>\n",
              "<table border=\"1\" class=\"dataframe\">\n",
              "  <thead>\n",
              "    <tr style=\"text-align: right;\">\n",
              "      <th></th>\n",
              "      <th>Image File</th>\n",
              "    </tr>\n",
              "  </thead>\n",
              "  <tbody>\n",
              "    <tr>\n",
              "      <th>0</th>\n",
              "      <td>Kettle1.jpg</td>\n",
              "    </tr>\n",
              "    <tr>\n",
              "      <th>1</th>\n",
              "      <td>Kettle2.jpg</td>\n",
              "    </tr>\n",
              "    <tr>\n",
              "      <th>2</th>\n",
              "      <td>Kettle3.jpg</td>\n",
              "    </tr>\n",
              "    <tr>\n",
              "      <th>3</th>\n",
              "      <td>Kettle4.jpg</td>\n",
              "    </tr>\n",
              "    <tr>\n",
              "      <th>4</th>\n",
              "      <td>Kettle5.jpg</td>\n",
              "    </tr>\n",
              "    <tr>\n",
              "      <th>5</th>\n",
              "      <td>Kettle6.jpg</td>\n",
              "    </tr>\n",
              "    <tr>\n",
              "      <th>6</th>\n",
              "      <td>Kettle7.jpg</td>\n",
              "    </tr>\n",
              "    <tr>\n",
              "      <th>7</th>\n",
              "      <td>Kettle8.jpg</td>\n",
              "    </tr>\n",
              "    <tr>\n",
              "      <th>8</th>\n",
              "      <td>Kettle9.jpg</td>\n",
              "    </tr>\n",
              "    <tr>\n",
              "      <th>9</th>\n",
              "      <td>Kettle10.jpg</td>\n",
              "    </tr>\n",
              "    <tr>\n",
              "      <th>10</th>\n",
              "      <td>Kettle11.jpg</td>\n",
              "    </tr>\n",
              "    <tr>\n",
              "      <th>11</th>\n",
              "      <td>Kettle12.jpg</td>\n",
              "    </tr>\n",
              "    <tr>\n",
              "      <th>12</th>\n",
              "      <td>Kettle13.jpg</td>\n",
              "    </tr>\n",
              "    <tr>\n",
              "      <th>13</th>\n",
              "      <td>Kettle14.jpg</td>\n",
              "    </tr>\n",
              "    <tr>\n",
              "      <th>14</th>\n",
              "      <td>Kettle15.jpg</td>\n",
              "    </tr>\n",
              "    <tr>\n",
              "      <th>15</th>\n",
              "      <td>Microwave1.jpg</td>\n",
              "    </tr>\n",
              "    <tr>\n",
              "      <th>16</th>\n",
              "      <td>Microwave2.jpg</td>\n",
              "    </tr>\n",
              "    <tr>\n",
              "      <th>17</th>\n",
              "      <td>Microwave3.jpg</td>\n",
              "    </tr>\n",
              "    <tr>\n",
              "      <th>18</th>\n",
              "      <td>Microwave4.jpg</td>\n",
              "    </tr>\n",
              "    <tr>\n",
              "      <th>19</th>\n",
              "      <td>Microwave5.jpg</td>\n",
              "    </tr>\n",
              "    <tr>\n",
              "      <th>20</th>\n",
              "      <td>Microwave6.jpg</td>\n",
              "    </tr>\n",
              "    <tr>\n",
              "      <th>21</th>\n",
              "      <td>Microwave7.jpg</td>\n",
              "    </tr>\n",
              "    <tr>\n",
              "      <th>22</th>\n",
              "      <td>Microwave8.jpg</td>\n",
              "    </tr>\n",
              "    <tr>\n",
              "      <th>23</th>\n",
              "      <td>Microwave9.jpg</td>\n",
              "    </tr>\n",
              "    <tr>\n",
              "      <th>24</th>\n",
              "      <td>Microwave10.jpg</td>\n",
              "    </tr>\n",
              "    <tr>\n",
              "      <th>25</th>\n",
              "      <td>Microwave11.jpg</td>\n",
              "    </tr>\n",
              "    <tr>\n",
              "      <th>26</th>\n",
              "      <td>Microwave12.jpg</td>\n",
              "    </tr>\n",
              "    <tr>\n",
              "      <th>27</th>\n",
              "      <td>Microwave13.jpg</td>\n",
              "    </tr>\n",
              "    <tr>\n",
              "      <th>28</th>\n",
              "      <td>Microwave14.jpg</td>\n",
              "    </tr>\n",
              "    <tr>\n",
              "      <th>29</th>\n",
              "      <td>Microwave15.jpg</td>\n",
              "    </tr>\n",
              "  </tbody>\n",
              "</table>\n",
              "</div>"
            ],
            "text/plain": [
              "         Image File\n",
              "0       Kettle1.jpg\n",
              "1       Kettle2.jpg\n",
              "2       Kettle3.jpg\n",
              "3       Kettle4.jpg\n",
              "4       Kettle5.jpg\n",
              "5       Kettle6.jpg\n",
              "6       Kettle7.jpg\n",
              "7       Kettle8.jpg\n",
              "8       Kettle9.jpg\n",
              "9      Kettle10.jpg\n",
              "10     Kettle11.jpg\n",
              "11     Kettle12.jpg\n",
              "12     Kettle13.jpg\n",
              "13     Kettle14.jpg\n",
              "14     Kettle15.jpg\n",
              "15   Microwave1.jpg\n",
              "16   Microwave2.jpg\n",
              "17   Microwave3.jpg\n",
              "18   Microwave4.jpg\n",
              "19   Microwave5.jpg\n",
              "20   Microwave6.jpg\n",
              "21   Microwave7.jpg\n",
              "22   Microwave8.jpg\n",
              "23   Microwave9.jpg\n",
              "24  Microwave10.jpg\n",
              "25  Microwave11.jpg\n",
              "26  Microwave12.jpg\n",
              "27  Microwave13.jpg\n",
              "28  Microwave14.jpg\n",
              "29  Microwave15.jpg"
            ]
          },
          "metadata": {},
          "execution_count": 5
        }
      ]
    },
    {
      "cell_type": "markdown",
      "metadata": {
        "id": "nS6X6ZD2BxAu"
      },
      "source": [
        "Setting our hyperparameters."
      ]
    },
    {
      "cell_type": "code",
      "metadata": {
        "id": "1Zx_D2GHOncQ"
      },
      "source": [
        "epochs = 25 #Number of times will will cycle our data through the CNN during training.\n",
        "batchSize = 16 #Number of images passed though at a time.\n",
        "inputSize = (224,224) #Size images need to be resized to inorder to fit into the CNN input layer. \n",
        "classes = ['Kettle','Microwave'] #Defining the groups we want our CNN to sort its preditions into."
      ],
      "execution_count": null,
      "outputs": []
    },
    {
      "cell_type": "markdown",
      "metadata": {
        "id": "jfA8vKcefegw"
      },
      "source": [
        "Here we are defining the preprocessing steps we need carried out on our raw image data so that it can be reformated into a format that can passed into our CNNs input player for training. This includes data augmentation techniques that are used to provide extra diversity in the dataset for training."
      ]
    },
    {
      "cell_type": "code",
      "metadata": {
        "colab": {
          "base_uri": "https://localhost:8080/"
        },
        "id": "7Y54IoVbOrhI",
        "outputId": "03e47cef-4968-4809-87e7-4f9fd522e2ab"
      },
      "source": [
        "trainImagePreprocessing=ImageDataGenerator(preprocessing_function=tf.keras.applications.inception_v3.preprocess_input,\n",
        "                                            shear_range=0.2,\n",
        "                                            rotation_range=45,\n",
        "                                            fill_mode='reflect',\n",
        "                                            validation_split=0.3,\n",
        "                                            horizontal_flip = True)\n",
        "\n",
        "testImagePreprocessing=ImageDataGenerator(preprocessing_function=tf.keras.applications.inception_v3.preprocess_input)\n",
        "\n",
        "#training generator\n",
        "trainGenerator=trainImagePreprocessing.flow_from_directory(directory= trainPath,\n",
        "                                            target_size = inputSize,\n",
        "                                            batch_size = batchSize,\n",
        "                                            classes = classes,\n",
        "                                            class_mode = \"categorical\",\n",
        "                                            subset = \"training\",\n",
        "                                            shuffle = True,\n",
        "                                            seed = False)\n",
        "\n",
        "#validation generator\n",
        "validationGenerator=trainImagePreprocessing.flow_from_directory(directory= trainPath,\n",
        "                                            target_size = inputSize,\n",
        "                                            batch_size = batchSize,\n",
        "                                            classes = classes,\n",
        "                                            class_mode = \"categorical\",\n",
        "                                            subset = \"validation\",\n",
        "                                            shuffle = True,\n",
        "                                            seed = False)\n",
        "#test generator\n",
        "testGenerator = testImagePreprocessing.flow_from_dataframe(dataframe=testDataShape,\n",
        "                                            directory=testPath,\n",
        "                                            x_col='Image File',\n",
        "                                            y_col=None,\n",
        "                                            target_size= inputSize,\n",
        "                                            batch_size=30,\n",
        "                                            class_mode=None,\n",
        "                                            shuffle= False,\n",
        "                                            validate_filenames=True)\n",
        "\n"
      ],
      "execution_count": null,
      "outputs": [
        {
          "output_type": "stream",
          "name": "stdout",
          "text": [
            "Found 218 images belonging to 2 classes.\n",
            "Found 92 images belonging to 2 classes.\n",
            "Found 30 validated image filenames.\n"
          ]
        }
      ]
    },
    {
      "cell_type": "code",
      "metadata": {
        "colab": {
          "base_uri": "https://localhost:8080/"
        },
        "id": "xQMZzTtb_hLu",
        "outputId": "ad49961a-bef5-465d-d66d-80b398f3dafe"
      },
      "source": [
        "testGenerator"
      ],
      "execution_count": null,
      "outputs": [
        {
          "output_type": "execute_result",
          "data": {
            "text/plain": [
              "<keras.preprocessing.image.DataFrameIterator at 0x7f433dec20d0>"
            ]
          },
          "metadata": {},
          "execution_count": 31
        }
      ]
    },
    {
      "cell_type": "markdown",
      "metadata": {
        "id": "Uz86FcWqikmo"
      },
      "source": [
        "Loading the CNN model. This model has its initial layers pretained on data set from the 'Imagenet' database. We are only using our data to train the later convolutional layers of the network. "
      ]
    },
    {
      "cell_type": "code",
      "metadata": {
        "id": "ss4WGIxOzGyC"
      },
      "source": [
        "base_model = tf.keras.applications.inception_v3.InceptionV3(weights=\"imagenet\",\n",
        "                                                            include_top=False)\n",
        "avg = tf.keras.layers.GlobalAveragePooling2D()(base_model.output)\n",
        "output = tf.keras.layers.Dense(2,activation=\"softmax\")(avg)\n",
        "model = tf.keras.Model(inputs=base_model.input, outputs=output)\n",
        "\n",
        "for layer in base_model.layers:\n",
        "  layer.tranable = False\n"
      ],
      "execution_count": null,
      "outputs": []
    },
    {
      "cell_type": "markdown",
      "metadata": {
        "id": "WKNrrDuHiwPP"
      },
      "source": [
        "Defining the mertics we want to be caulated and displayed during training along with the optimizer chosen to minimise the loss value."
      ]
    },
    {
      "cell_type": "code",
      "metadata": {
        "id": "u42C0hLT3t4V"
      },
      "source": [
        "model.compile(loss='categorical_crossentropy', \n",
        "              metrics=[tf.keras.metrics.Precision()],\n",
        "              optimizer = 'sgd')"
      ],
      "execution_count": null,
      "outputs": []
    },
    {
      "cell_type": "markdown",
      "metadata": {
        "id": "yMjak-j8fHMe"
      },
      "source": [
        "Kicks off the training process."
      ]
    },
    {
      "cell_type": "code",
      "metadata": {
        "id": "NzCq4NHK_Z7H",
        "colab": {
          "base_uri": "https://localhost:8080/"
        },
        "outputId": "9a800812-0b41-46f2-e1c6-08b3df3cd54a"
      },
      "source": [
        "STEP_SIZE_TRAIN=trainGenerator.n//trainGenerator.batch_size\n",
        "STEP_SIZE_VALID=validationGenerator.n//validationGenerator.batch_size\n",
        "birdBrain = model.fit_generator(generator=trainGenerator,\n",
        "                              steps_per_epoch=STEP_SIZE_TRAIN,\n",
        "                              validation_data=validationGenerator,\n",
        "                              validation_steps=STEP_SIZE_VALID,\n",
        "                              epochs=epochs)"
      ],
      "execution_count": null,
      "outputs": [
        {
          "metadata": {
            "tags": null
          },
          "name": "stderr",
          "output_type": "stream",
          "text": [
            "/usr/local/lib/python3.7/dist-packages/keras/engine/training.py:1972: UserWarning: `Model.fit_generator` is deprecated and will be removed in a future version. Please use `Model.fit`, which supports generators.\n",
            "  warnings.warn('`Model.fit_generator` is deprecated and '\n"
          ]
        },
        {
          "output_type": "stream",
          "name": "stdout",
          "text": [
            "Epoch 1/25\n",
            "13/13 [==============================] - 113s 8s/step - loss: 0.6941 - precision_1: 0.5891 - val_loss: 0.6892 - val_precision_1: 0.5500\n",
            "Epoch 2/25\n",
            "13/13 [==============================] - 102s 8s/step - loss: 0.5068 - precision_1: 0.7376 - val_loss: 0.7725 - val_precision_1: 0.7125\n",
            "Epoch 3/25\n",
            "13/13 [==============================] - 102s 8s/step - loss: 0.4235 - precision_1: 0.8020 - val_loss: 0.7264 - val_precision_1: 0.6125\n",
            "Epoch 4/25\n",
            "13/13 [==============================] - 101s 8s/step - loss: 0.3391 - precision_1: 0.8960 - val_loss: 0.7259 - val_precision_1: 0.7625\n",
            "Epoch 5/25\n",
            "13/13 [==============================] - 101s 8s/step - loss: 0.3060 - precision_1: 0.8812 - val_loss: 0.3832 - val_precision_1: 0.7875\n",
            "Epoch 6/25\n",
            "13/13 [==============================] - 101s 8s/step - loss: 0.2231 - precision_1: 0.9208 - val_loss: 0.5748 - val_precision_1: 0.7000\n",
            "Epoch 7/25\n",
            "13/13 [==============================] - 101s 8s/step - loss: 0.1637 - precision_1: 0.9554 - val_loss: 0.5059 - val_precision_1: 0.8250\n",
            "Epoch 8/25\n",
            "13/13 [==============================] - 101s 8s/step - loss: 0.1621 - precision_1: 0.9505 - val_loss: 0.3301 - val_precision_1: 0.8625\n",
            "Epoch 9/25\n",
            "13/13 [==============================] - 100s 8s/step - loss: 0.1456 - precision_1: 0.9554 - val_loss: 0.4222 - val_precision_1: 0.8125\n",
            "Epoch 10/25\n",
            "13/13 [==============================] - 101s 8s/step - loss: 0.0884 - precision_1: 0.9752 - val_loss: 0.3615 - val_precision_1: 0.8750\n",
            "Epoch 11/25\n",
            "13/13 [==============================] - 101s 8s/step - loss: 0.1017 - precision_1: 0.9554 - val_loss: 0.4749 - val_precision_1: 0.7875\n",
            "Epoch 12/25\n",
            "13/13 [==============================] - 100s 8s/step - loss: 0.0797 - precision_1: 0.9851 - val_loss: 0.3900 - val_precision_1: 0.9125\n",
            "Epoch 13/25\n",
            "13/13 [==============================] - 101s 8s/step - loss: 0.0448 - precision_1: 0.9950 - val_loss: 0.3451 - val_precision_1: 0.8000\n",
            "Epoch 14/25\n",
            "13/13 [==============================] - 100s 8s/step - loss: 0.0801 - precision_1: 0.9851 - val_loss: 0.5148 - val_precision_1: 0.8000\n",
            "Epoch 15/25\n",
            "13/13 [==============================] - 103s 8s/step - loss: 0.0564 - precision_1: 0.9856 - val_loss: 0.4606 - val_precision_1: 0.8375\n",
            "Epoch 16/25\n",
            "13/13 [==============================] - 101s 8s/step - loss: 0.0462 - precision_1: 0.9901 - val_loss: 0.3679 - val_precision_1: 0.8500\n",
            "Epoch 17/25\n",
            "13/13 [==============================] - 101s 8s/step - loss: 0.0606 - precision_1: 0.9851 - val_loss: 0.3548 - val_precision_1: 0.8625\n",
            "Epoch 18/25\n",
            "13/13 [==============================] - 101s 8s/step - loss: 0.0438 - precision_1: 0.9802 - val_loss: 0.3125 - val_precision_1: 0.8375\n",
            "Epoch 19/25\n",
            "13/13 [==============================] - 101s 8s/step - loss: 0.0152 - precision_1: 1.0000 - val_loss: 0.4016 - val_precision_1: 0.8500\n",
            "Epoch 20/25\n",
            "13/13 [==============================] - 101s 8s/step - loss: 0.0434 - precision_1: 0.9802 - val_loss: 0.4476 - val_precision_1: 0.8375\n",
            "Epoch 21/25\n",
            "13/13 [==============================] - 101s 8s/step - loss: 0.0391 - precision_1: 0.9950 - val_loss: 0.1783 - val_precision_1: 0.9250\n",
            "Epoch 22/25\n",
            "13/13 [==============================] - 101s 8s/step - loss: 0.0293 - precision_1: 0.9950 - val_loss: 0.3999 - val_precision_1: 0.8750\n",
            "Epoch 23/25\n",
            "13/13 [==============================] - 101s 8s/step - loss: 0.0492 - precision_1: 0.9901 - val_loss: 0.2554 - val_precision_1: 0.8875\n",
            "Epoch 24/25\n",
            "13/13 [==============================] - 101s 8s/step - loss: 0.0467 - precision_1: 0.9752 - val_loss: 0.2865 - val_precision_1: 0.8875\n",
            "Epoch 25/25\n",
            "13/13 [==============================] - 101s 8s/step - loss: 0.0552 - precision_1: 0.9802 - val_loss: 0.1695 - val_precision_1: 0.9125\n"
          ]
        }
      ]
    },
    {
      "cell_type": "markdown",
      "metadata": {
        "id": "9g7SRu6jddvV"
      },
      "source": [
        "Saving the weights of out trained model so that it can be recalled outside of the current session withought having to retrain the weights from scratch. "
      ]
    },
    {
      "cell_type": "code",
      "metadata": {
        "id": "01-9tOE4qESn"
      },
      "source": [
        "model.save('/content/drive/MyDrive/birdBrainModel/InceptionV3/birdBrainModel.h5')"
      ],
      "execution_count": null,
      "outputs": []
    },
    {
      "cell_type": "markdown",
      "metadata": {
        "id": "DeHVdhwRsp_i"
      },
      "source": [
        "Loads the weights of the cnn."
      ]
    },
    {
      "cell_type": "code",
      "metadata": {
        "id": "7Na4hPG9cPd_"
      },
      "source": [
        "birdBrain = tf.keras.models.load_model('/content/drive/MyDrive/birdBrainModel/InceptionV3/birdBrainModel.h5')"
      ],
      "execution_count": null,
      "outputs": []
    },
    {
      "cell_type": "markdown",
      "metadata": {
        "id": "2voM5Fl9szdw"
      },
      "source": [
        "Here we are applying our trained model to the test data and it is returning a level of confidance for each class.\n",
        "\n",
        "[kettle, microwave]"
      ]
    },
    {
      "cell_type": "code",
      "metadata": {
        "colab": {
          "base_uri": "https://localhost:8080/"
        },
        "id": "FBM7q_VHv6_t",
        "outputId": "0d34ef1a-fa37-49d3-8c53-fed705b55e8a"
      },
      "source": [
        "ypred = birdBrain.predict(testGenerator,batchSize)\n",
        "print(ypred)"
      ],
      "execution_count": null,
      "outputs": [
        {
          "output_type": "stream",
          "name": "stdout",
          "text": [
            "[[9.7562510e-01 2.4374954e-02]\n",
            " [1.7422998e-01 8.2577002e-01]\n",
            " [5.5844712e-01 4.4155288e-01]\n",
            " [8.5438985e-01 1.4561018e-01]\n",
            " [9.9924952e-01 7.5050775e-04]\n",
            " [2.9160764e-02 9.7083920e-01]\n",
            " [1.4512222e-01 8.5487777e-01]\n",
            " [9.8549473e-01 1.4505215e-02]\n",
            " [9.9377948e-01 6.2204786e-03]\n",
            " [9.5442063e-01 4.5579433e-02]\n",
            " [9.9848539e-01 1.5146134e-03]\n",
            " [9.9544626e-01 4.5537357e-03]\n",
            " [9.9838579e-01 1.6142568e-03]\n",
            " [9.7906452e-01 2.0935535e-02]\n",
            " [7.5653440e-01 2.4346562e-01]\n",
            " [8.8072336e-01 1.1927665e-01]\n",
            " [9.4780976e-01 5.2190237e-02]\n",
            " [7.8882225e-02 9.2111784e-01]\n",
            " [8.2941301e-02 9.1705865e-01]\n",
            " [3.5712382e-04 9.9964285e-01]\n",
            " [1.0872863e-01 8.9127141e-01]\n",
            " [2.1026336e-01 7.8973663e-01]\n",
            " [1.7505317e-03 9.9824947e-01]\n",
            " [1.3541401e-02 9.8645860e-01]\n",
            " [3.1505519e-01 6.8494481e-01]\n",
            " [2.1822723e-03 9.9781775e-01]\n",
            " [2.9627133e-02 9.7037292e-01]\n",
            " [7.2477162e-02 9.2752278e-01]\n",
            " [1.0128146e-02 9.8987192e-01]\n",
            " [7.2455889e-04 9.9927551e-01]]\n"
          ]
        }
      ]
    },
    {
      "cell_type": "markdown",
      "metadata": {
        "id": "tpU8mNPZs855"
      },
      "source": [
        "The two rows representing predidictions are checked and the row with the larger confidance is returned. Kettle = 0 as it was row 0 and microwave = 1 as it is row 1."
      ]
    },
    {
      "cell_type": "code",
      "metadata": {
        "colab": {
          "base_uri": "https://localhost:8080/"
        },
        "id": "lq4o0X3PPEhJ",
        "outputId": "c35f08f6-10e5-4479-e524-4bcf08a37376"
      },
      "source": [
        "predictions = np.argmax(ypred, axis = 1)\n",
        "print(predictions)"
      ],
      "execution_count": null,
      "outputs": [
        {
          "output_type": "stream",
          "name": "stdout",
          "text": [
            "[0 1 0 0 0 1 1 0 0 0 0 0 0 0 0 0 0 1 1 1 1 1 1 1 1 1 1 1 1 1]\n"
          ]
        }
      ]
    },
    {
      "cell_type": "markdown",
      "metadata": {
        "id": "jj9uSEapxKIY"
      },
      "source": [
        "Defining what answser we know should be returned from our test data."
      ]
    },
    {
      "cell_type": "code",
      "metadata": {
        "id": "PER4lsfKrjiL"
      },
      "source": [
        "testLables = [0,0,0,0,0,0,0,0,0,0,0,0,0,0,0,1,1,1,1,1,1,1,1,1,1,1,1,1,1,1]"
      ],
      "execution_count": null,
      "outputs": []
    },
    {
      "cell_type": "markdown",
      "metadata": {
        "id": "NtcHlWcEcvba"
      },
      "source": [
        "Here we are defining the method that we can call upon to polt our Confusion Matrix."
      ]
    },
    {
      "cell_type": "code",
      "metadata": {
        "id": "uhh-wn7ofKAy"
      },
      "source": [
        "def plot_confusion_matrix(cm, classes,\n",
        "                        normalize=False,\n",
        "                        title='Confusion matrix',\n",
        "                        cmap=plt.cm.Blues):\n",
        "    \"\"\"\n",
        "    This function prints and plots the confusion matrix.\n",
        "    Normalization can be applied by setting `normalize=True`.\n",
        "    \"\"\"\n",
        "    plt.imshow(cm, interpolation='nearest', cmap=cmap)\n",
        "    plt.title(title)\n",
        "    plt.colorbar()\n",
        "    tick_marks = np.arange(len(classes))\n",
        "    plt.xticks(tick_marks, ['Kettles Predicted','Microwaves Predicted'], rotation=45)\n",
        "    plt.yticks(tick_marks, ['Kettles Labled','Microwaves Labled'])\n",
        "\n",
        "    if normalize:\n",
        "        cm = cm.astype('float') / cm.sum(axis=1)[:, np.newaxis]\n",
        "        print(\"Normalized confusion matrix\")\n",
        "    else:\n",
        "        print('Confusion matrix, without normalization')\n",
        "\n",
        "    print(cm)\n",
        "\n",
        "    thresh = cm.max() / 2.\n",
        "    for i, j in itertools.product(range(cm.shape[0]), range(cm.shape[1])):\n",
        "        plt.text(j, i, cm[i, j],\n",
        "            horizontalalignment=\"center\",\n",
        "            color=\"white\" if cm[i, j] > thresh else \"black\")"
      ],
      "execution_count": null,
      "outputs": []
    },
    {
      "cell_type": "markdown",
      "metadata": {
        "id": "eelWlayjcZaL"
      },
      "source": [
        "This section of code polts and displays the Confusion Matrix by calling the function we defined in the code snippit above.\n"
      ]
    },
    {
      "cell_type": "code",
      "metadata": {
        "colab": {
          "base_uri": "https://localhost:8080/",
          "height": 406
        },
        "id": "JX0m0Busii9O",
        "outputId": "c08afac5-8e81-41db-8737-44c7037f6a1d"
      },
      "source": [
        "cm = confusion_matrix(y_true=testLables, y_pred=predictions)\n",
        "plot_confusion_matrix(cm=cm, classes=classes,title='Confusion Matrix')"
      ],
      "execution_count": null,
      "outputs": [
        {
          "output_type": "stream",
          "name": "stdout",
          "text": [
            "Confusion matrix, without normalization\n",
            "[[12  3]\n",
            " [ 2 13]]\n"
          ]
        },
        {
          "output_type": "display_data",
          "data": {
            "image/png": "[encoded data removed]",
            "text/plain": [
              "<Figure size 432x288 with 2 Axes>"
            ]
          },
          "metadata": {
            "needs_background": "light"
          }
        }
      ]
    },
    {
      "cell_type": "markdown",
      "metadata": {
        "id": "CrnK9cSU_xC4"
      },
      "source": [
        "This section applies the CNN to 1 single image and determins the class of that image."
      ]
    },
    {
      "cell_type": "code",
      "metadata": {
        "colab": {
          "base_uri": "https://localhost:8080/"
        },
        "id": "9tlkVsPeYvy6",
        "outputId": "33e366a6-6657-40b6-f961-28425baf6d88"
      },
      "source": [
        "imPath = '/content/drive/MyDrive/Data/TestingData/Data/Kettle8.jpg'\n",
        "# convert image to PIL image\n",
        "image = tf.keras.preprocessing.image.load_img(imPath)\n",
        "# convert image to numpy array\n",
        "input_arr = tf.keras.preprocessing.image.img_to_array(image)\n",
        "# convert single image to a batch\n",
        "input_arr = np.array([input_arr])\n",
        "# apply our preprocessing to the array to fit CNN input layer\n",
        "input_arr = tf.keras.applications.inception_v3.preprocess_input(input_arr)\n",
        "# applies the trained model to \n",
        "ypred = birdBrain.predict(input_arr)\n",
        "# determins most likley class and prints the results by comparing the rows of the ouputted matrix\n",
        "prediction = np.argmax(ypred, axis=1)\n",
        "print(ypred)\n",
        "print(prediction)\n",
        "if prediction == 0:\n",
        "  print('Kettle detected')\n",
        "elif prediction == 1:\n",
        "  print('Microwave detected')\n",
        "\n"
      ],
      "execution_count": null,
      "outputs": [
        {
          "output_type": "stream",
          "name": "stdout",
          "text": [
            "[[0.5373729  0.46262705]]\n",
            "[0]\n",
            "Kettle detected\n"
          ]
        }
      ]
    },
    {
      "cell_type": "code",
      "metadata": {
        "id": "-lWJ54ZOEtEF"
      },
      "source": [
        ""
      ],
      "execution_count": null,
      "outputs": []
    }
  ]
}